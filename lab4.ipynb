{
  "nbformat": 4,
  "nbformat_minor": 0,
  "metadata": {
    "colab": {
      "provenance": [],
      "include_colab_link": true
    },
    "kernelspec": {
      "name": "python3",
      "display_name": "Python 3"
    },
    "language_info": {
      "name": "python"
    }
  },
  "cells": [
    {
      "cell_type": "markdown",
      "metadata": {
        "id": "view-in-github",
        "colab_type": "text"
      },
      "source": [
        "<a href=\"https://colab.research.google.com/github/akechsmith/ICS-2207-SCIENTIFIC-COMPUTING/blob/main/lab4.ipynb\" target=\"_parent\"><img src=\"https://colab.research.google.com/assets/colab-badge.svg\" alt=\"Open In Colab\"/></a>"
      ]
    },
    {
      "cell_type": "markdown",
      "source": [
        "#### SCT211-0535/2022\n",
        "\n",
        "#### AKECH DAU ATEM"
      ],
      "metadata": {
        "id": "pPHM9JmnDbie"
      }
    },
    {
      "cell_type": "markdown",
      "source": [
        "\n",
        "\n",
        "## Question 1\n",
        "\n",
        "A lab group is combining different amounts of 3 salts to obtain various weights of the final product. They combine 2 mol of salt A, 3 mol of salt B, and 1 mol of salt C to make 312.1 g of the final product. Then, they combine 1 mol of salt A, 2 mol of salt B, and 1 mol of salt C to make 216.7 g of the final product. Finally, the lab group combines 1 mol of salt A, 1 mol of salt B, and 2 mol of salt C to make\n",
        "264 g of the final product. Find the molar mass of each salt.\n",
        "\n",
        "$\\;$\n",
        "### Solution\n",
        "\n",
        "system:  \n",
        "\n",
        "$\\; \\; \\; 2A \\; +  \\; 3B + C \\; = 312.1$\n",
        "\n",
        "$\\; \\; \\; A \\; +  \\; B + 2C \\; = 264$\n",
        "\n",
        "$\\; \\; \\; A \\; +  \\; 2B + C \\; = 216.7$\n",
        "\n",
        "\n",
        "\n",
        "\n",
        "The augmented matrix:\n",
        "$A$ =\n",
        "$\\begin{bmatrix}\n",
        "2 & 3 & 1 & | & 312.1 \\\\\n",
        "1 & 1 & 2 & | & 264 \\\\\n",
        "1 & 2 & 1 & | & 216.7\n",
        "\\end{bmatrix}$\n",
        "\n",
        "$\\;$\n",
        "\n",
        "### Row Reduction:\n",
        "\n",
        "\n",
        "$\\;$\n",
        "\n",
        "$\\begin{bmatrix}\n",
        "2 & 3 & 1 & | & 312.1 \\\\\n",
        "1 & 1 & 2 & | & 264 \\\\\n",
        "1 & 2 & 1 & | & 216.7\n",
        "\\end{bmatrix}$\n",
        "\n",
        "$\\;$\n",
        "\n",
        "$R_2 = R_3 -R_2,\\;R_3 = R_1 - 2R_3$  \n",
        "\n",
        "$\\begin{bmatrix}\n",
        "2 & 3 & 1 & | & 312.1 \\\\\n",
        "0 & -1 & 1 & | & 47.3 \\\\\n",
        "0 & 1 & -3 & | & -215.9\n",
        "\\end{bmatrix}$\n",
        "\n",
        "\n",
        "$\\;$\n",
        "\n",
        "$R_1 = R_1 + 3R_2,\\;R_3 = R_3 - R_2$  \n",
        "\n",
        "$\\begin{bmatrix}\n",
        "2 & 0 & 4 & | & 454 \\\\\n",
        "0 & -1 & 1 & | & 47.3 \\\\\n",
        "0 & 0 & -2 & | & -168.6\n",
        "\\end{bmatrix}$\n",
        "\n",
        "$\\;$\n",
        "\n",
        "The Gaussian sloution at this point is:\n",
        "$\\;$\n",
        "\n",
        "$-2C = -168.3,\\;so\\;C = 84.3$\n",
        "\n",
        "$-B + C = 47.3,\\;so\\;B = 84.3 - 47.3 = 37.0$\n",
        "\n",
        "$-2A + 4C = 454,\\;so\\;A = 116.8$  \n",
        "\n",
        "\n",
        "### Gauss-Jordan\n",
        "We continue from here to get to RREF(Gauss-Jordan)\n",
        "\n",
        "$\\;$\n",
        "\n",
        "$R_1 = R_1 + 2R_3,\\; R_2 = 2R_2 + R_3$  \n",
        "\n",
        "$\\begin{bmatrix}\n",
        "2 & 0 & 0 & | & 116.8 \\\\\n",
        "0 & -2 & 0 & | & -74 \\\\\n",
        "0 & 0 & -2 & | & -168.6\n",
        "\\end{bmatrix}$\n",
        "\n",
        "$\\;$\n",
        "\n",
        "$R_1 = R_1/2,\\; R_2 = R_2/-2, R_3 = R_3/-2$  \n",
        "\n",
        "$\\begin{bmatrix}\n",
        "1 & 0 & 0 & | & 58.4 \\\\\n",
        "0 & 1 & 0 & | & 37.0 \\\\\n",
        "0 & 0 & 1 & | & 84.3\n",
        "\\end{bmatrix}$\n",
        "\n",
        "$\\;$\n",
        "\n",
        "### Answers\n",
        "$A = 58.4,\\; B = 37.0,\\;C = 84.3$  \n",
        "\n",
        "$\\;$\n",
        "\n",
        "# Symbolic Python Solution\n",
        "The Symbolic Python solution is below:"
      ],
      "metadata": {
        "id": "FpnYq3ueO1Cs"
      }
    },
    {
      "cell_type": "code",
      "source": [
        "import sympy as sp\n",
        "\n",
        "a, b, c = sp.symbols('a b c')\n",
        "\n",
        "solution = sp.solve((2*a + 3*b + c -312.1,\\\n",
        "                      a + 2*b + c -216.7,\\\n",
        "                      a + b + 2*c -264), (a, b, c))\n",
        "# solutions\n",
        "print(f'a = {solution[a]:.1f}')\n",
        "print(f'b = {solution[b]:.1f}')\n",
        "print(f'c = {solution[c]:.1f}')"
      ],
      "metadata": {
        "colab": {
          "base_uri": "https://localhost:8080/"
        },
        "id": "RYfi8krLe0aE",
        "outputId": "62502c33-6d0e-4bf4-ae43-17f10cbe0311"
      },
      "execution_count": null,
      "outputs": [
        {
          "output_type": "stream",
          "name": "stdout",
          "text": [
            "a = 58.4\n",
            "b = 37.0\n",
            "c = 84.3\n"
          ]
        }
      ]
    },
    {
      "cell_type": "markdown",
      "source": [
        "### QUESTION 2\n",
        "A chemistry student is trying to make 100 mL of a 26% acid solution from a 10% solution, a 20% solution, and a 40% solution.\n",
        "Unfortunately, the lab is out of 20%, so the student uses a 25% solution, and ends up with 100 mL of 28% solution. What volume of each solution did the student use?\n",
        "\n",
        "$\\;$\n",
        "\n",
        "### Solution\n",
        "Let $x$ represent the volume of 10% solution, $y$ volume of 20% solution and $z$ volume of 40% solution.\n",
        "\n",
        "system:  \n",
        "\n",
        "$\\; \\; \\; x \\; +  \\; y + z \\; = 100$\n",
        "\n",
        "$\\; \\; \\; 0.1x \\; +  \\; 0.2y + 0.4z \\; = 0.26$\n",
        "\n",
        "$\\; \\; \\; 0.1x \\; +  \\; 0.25y + 0.4z \\; = 0.28$\n",
        "\n",
        "For simplicity we multiply each equation by 100.\n",
        "\n",
        "$\\;$\n",
        "$\\;$\n",
        "\n",
        "The augmented matrix;\n",
        "$M$ =\n",
        "$\\begin{bmatrix}\n",
        "1 & 1 & 1 & | & 100 \\\\\n",
        "0.1 & 0.2 & 0.4 & | & 26 \\\\\n",
        "0.1 & 0.25 & 0.4 & | & 28\n",
        "\\end{bmatrix}$\n",
        "\n",
        "$\\;$\n",
        "\n",
        "$R_2 = 10R_2 - R_1,\\;R_3 = 10R_3 - R_1$  \n",
        "\n",
        "$\\begin{bmatrix}\n",
        "1 & 1 & 1 & | & 100 \\\\\n",
        "0 & 1 & 3 & | & 160 \\\\\n",
        "0 & 0.5 & 3 & | & 180\n",
        "\\end{bmatrix}$\n",
        "\n",
        "$\\;$\n",
        "\n",
        "\n",
        "\n",
        "$R_3 = 3R_2 - 2R_3$  \n",
        "\n",
        "$\\begin{bmatrix}\n",
        "1 & 1 & 1 & | & 100 \\\\\n",
        "0 & 1 & 3 & | & 160 \\\\\n",
        "0 & 0 & 3 & | & 120\n",
        "\\end{bmatrix}$\n",
        "\n",
        "#### Gaussian Solution\n",
        "$3z = 120,\\;z = 40$  \n",
        "$y + 3z = 160,\\;so\\;y + 3(40) = 160,\\;y = 160 - 120,\\;y = 40$   \n",
        "$x + y + z = 100,\\;x + 40 + 40 = 100,\\;x =  100 - 80 = 20$\n",
        "\n",
        "$\\;$\n",
        "\n",
        "\n",
        "#### Gauss-Jordan\n",
        "We continue to Row Reduced Echelon Form(RREF) elimination method also known as the Gauss-Jordan algorithm.\n",
        "\n",
        "$R_1 = R_1 - R_2$\n",
        "\n",
        "$\\begin{bmatrix}\n",
        "1 & 0 & -2 & | & -60 \\\\\n",
        "0 & 1 & 3 & | & 160 \\\\\n",
        "0 & 0 & 3 & | & 120\n",
        "\\end{bmatrix}$\n",
        "\n",
        "\n",
        "$\\;$\n",
        "$R_1 = 3R_1 + 2R_3$\n",
        "\n",
        "$\\begin{bmatrix}\n",
        "3 & 0 & 0 & | & 60 \\\\\n",
        "0 & 1 & 3 & | & 160 \\\\\n",
        "0 & 0 & 3 & | & 120\n",
        "\\end{bmatrix}$\n",
        "\n",
        "$\\;$\n",
        "\n",
        "$R_2 = R_1 + R_3$\n",
        "\n",
        "$\\begin{bmatrix}\n",
        "3 & 0 & 0 & | & 60 \\\\\n",
        "0 & 1 & 0 & | & 40 \\\\\n",
        "0 & 0 & 3 & | & 120\n",
        "\\end{bmatrix}$\n",
        "\n",
        "$\\;$\n",
        "\n",
        "$R_1 = R_1/3,\\;R_3 = R_3/3$\n",
        "\n",
        "$\\begin{bmatrix}\n",
        "1 & 0 & 0 & | & 20 \\\\\n",
        "0 & 1 & 0 & | & 40 \\\\\n",
        "0 & 0 & 1 & | & 40\n",
        "\\end{bmatrix}$\n",
        "\n",
        "#### Solutions;\n",
        "$x = 20,\\;y = 40,\\;z = 40$  \n",
        "\n",
        "$\\;$\n",
        "\n",
        "## Symbolic Python Solution\n",
        "The confirmation with symbolic python.\n",
        "\n"
      ],
      "metadata": {
        "id": "Rmurfjn1gUgI"
      }
    },
    {
      "cell_type": "code",
      "source": [
        "import sympy as sym\n",
        "\n",
        "x, y, z = sym.symbols('x y z')\n",
        "\n",
        "solution = sym.solve((x + y + z -100,\\\n",
        "                     0.1*x + 0.2*y + 0.4*z -26,\\\n",
        "                     0.1*x + 0.25*y + 0.4*z -28),(x, y, z))\n",
        "\n",
        "print(f'x = {int(solution[x])}')\n",
        "print(f'y = {int(solution[y])}')\n",
        "print(f'z = {int(solution[z])}')"
      ],
      "metadata": {
        "colab": {
          "base_uri": "https://localhost:8080/"
        },
        "id": "tIeog3-la52I",
        "outputId": "cddc9ef3-4ff2-428d-9fd2-90a02f7d6ed7"
      },
      "execution_count": null,
      "outputs": [
        {
          "output_type": "stream",
          "name": "stdout",
          "text": [
            "x = 20\n",
            "y = 40\n",
            "z = 40\n"
          ]
        }
      ]
    },
    {
      "cell_type": "markdown",
      "source": [
        "## QUESTION 3\n"
      ],
      "metadata": {
        "id": "scqHmwMeov2r"
      }
    },
    {
      "cell_type": "markdown",
      "source": [
        "Equation:\n",
        "$x\\frac{df(x)}{x} + f(x) - f(x)^2$\n",
        "\n",
        "$\\;$\n",
        "\n",
        "The Symbolic Python solution is as below"
      ],
      "metadata": {
        "id": "Y9B9DBjW7pZo"
      }
    },
    {
      "cell_type": "code",
      "source": [
        "import sympy as sym\n",
        "\n",
        "\n",
        "x = sym.Symbol('x')\n",
        "f = sym.Function('f')\n",
        "\n",
        "sym.solve((x*f(x).diff(x,x)/x) + f(x) - f(x)**2, f(x))"
      ],
      "metadata": {
        "colab": {
          "base_uri": "https://localhost:8080/"
        },
        "id": "oxSv2Pz-7uUQ",
        "outputId": "16c14d1c-7ce4-4623-dc5a-903a29ee6bc7"
      },
      "execution_count": null,
      "outputs": [
        {
          "output_type": "execute_result",
          "data": {
            "text/plain": [
              "[1/2 - sqrt(4*Derivative(f(x), (x, 2)) + 1)/2,\n",
              " sqrt(4*Derivative(f(x), (x, 2)) + 1)/2 + 1/2]"
            ]
          },
          "metadata": {},
          "execution_count": 3
        }
      ]
    },
    {
      "cell_type": "code",
      "source": [
        "# !pip install nbconvert\n",
        "# !apt-get install texlive texlive-xetex texlive-latex-extra pandoc\n",
        "# !pip install pypandoc\n",
        "\n",
        "from google.colab import drive\n",
        "drive.mount('/content/drive')\n",
        "!cp \"./drive/My Drive/Colab Notebooks/lab4.ipynb\" ./\n",
        "\n",
        "!jupyter nbconvert 'lab4.ipynb' --to pdf\n",
        "\n",
        "from google.colab import files\n",
        "files.download('lab4.pdf')"
      ],
      "metadata": {
        "colab": {
          "base_uri": "https://localhost:8080/",
          "height": 173
        },
        "id": "RsRboASj_U8x",
        "outputId": "427de36a-bac2-49c6-a3a1-395a934b5bd3"
      },
      "execution_count": null,
      "outputs": [
        {
          "output_type": "stream",
          "name": "stdout",
          "text": [
            "Drive already mounted at /content/drive; to attempt to forcibly remount, call drive.mount(\"/content/drive\", force_remount=True).\n",
            "[NbConvertApp] Converting notebook lab4.ipynb to pdf\n",
            "[NbConvertApp] Writing 31356 bytes to notebook.tex\n",
            "[NbConvertApp] Building PDF\n",
            "[NbConvertApp] Running xelatex 3 times: ['xelatex', 'notebook.tex', '-quiet']\n",
            "[NbConvertApp] Running bibtex 1 time: ['bibtex', 'notebook']\n",
            "[NbConvertApp] WARNING | bibtex had problems, most likely because there were no citations\n",
            "[NbConvertApp] PDF successfully created\n",
            "[NbConvertApp] Writing 52266 bytes to lab4.pdf\n"
          ]
        },
        {
          "output_type": "display_data",
          "data": {
            "text/plain": [
              "<IPython.core.display.Javascript object>"
            ],
            "application/javascript": [
              "\n",
              "    async function download(id, filename, size) {\n",
              "      if (!google.colab.kernel.accessAllowed) {\n",
              "        return;\n",
              "      }\n",
              "      const div = document.createElement('div');\n",
              "      const label = document.createElement('label');\n",
              "      label.textContent = `Downloading \"${filename}\": `;\n",
              "      div.appendChild(label);\n",
              "      const progress = document.createElement('progress');\n",
              "      progress.max = size;\n",
              "      div.appendChild(progress);\n",
              "      document.body.appendChild(div);\n",
              "\n",
              "      const buffers = [];\n",
              "      let downloaded = 0;\n",
              "\n",
              "      const channel = await google.colab.kernel.comms.open(id);\n",
              "      // Send a message to notify the kernel that we're ready.\n",
              "      channel.send({})\n",
              "\n",
              "      for await (const message of channel.messages) {\n",
              "        // Send a message to notify the kernel that we're ready.\n",
              "        channel.send({})\n",
              "        if (message.buffers) {\n",
              "          for (const buffer of message.buffers) {\n",
              "            buffers.push(buffer);\n",
              "            downloaded += buffer.byteLength;\n",
              "            progress.value = downloaded;\n",
              "          }\n",
              "        }\n",
              "      }\n",
              "      const blob = new Blob(buffers, {type: 'application/binary'});\n",
              "      const a = document.createElement('a');\n",
              "      a.href = window.URL.createObjectURL(blob);\n",
              "      a.download = filename;\n",
              "      div.appendChild(a);\n",
              "      a.click();\n",
              "      div.remove();\n",
              "    }\n",
              "  "
            ]
          },
          "metadata": {}
        },
        {
          "output_type": "display_data",
          "data": {
            "text/plain": [
              "<IPython.core.display.Javascript object>"
            ],
            "application/javascript": [
              "download(\"download_cfb4dd3e-5084-435e-9dcf-db6e81bc9016\", \"lab4.pdf\", 52266)"
            ]
          },
          "metadata": {}
        }
      ]
    },
    {
      "cell_type": "markdown",
      "source": [],
      "metadata": {
        "id": "brIZ6x-z_Upj"
      }
    }
  ]
}