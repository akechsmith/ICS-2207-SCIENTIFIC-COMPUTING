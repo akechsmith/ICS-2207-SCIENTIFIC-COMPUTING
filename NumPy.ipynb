{
  "nbformat": 4,
  "nbformat_minor": 0,
  "metadata": {
    "colab": {
      "provenance": [],
      "authorship_tag": "ABX9TyPoUcCIdqs0MVo4KJNEpLDp",
      "include_colab_link": true
    },
    "kernelspec": {
      "name": "python3",
      "display_name": "Python 3"
    },
    "language_info": {
      "name": "python"
    }
  },
  "cells": [
    {
      "cell_type": "markdown",
      "metadata": {
        "id": "view-in-github",
        "colab_type": "text"
      },
      "source": [
        "<a href=\"https://colab.research.google.com/github/akechsmith/ICS-2207-SCIENTIFIC-COMPUTING/blob/main/NumPy.ipynb\" target=\"_parent\"><img src=\"https://colab.research.google.com/assets/colab-badge.svg\" alt=\"Open In Colab\"/></a>"
      ]
    },
    {
      "cell_type": "code",
      "execution_count": null,
      "metadata": {
        "id": "jzQfPluPr4vc"
      },
      "outputs": [],
      "source": []
    },
    {
      "cell_type": "markdown",
      "source": [
        "# **NUMPY**\n",
        "Is a multidimenssion arrays\n",
        "numpy is used over List because it is faster\n",
        "\n",
        "numpy used fixed type.\n",
        "\n",
        "WHY FASTER:\n",
        "\n",
        "*   Faster to read less bytes of menmory\n",
        "*   No type checking when iterating through the objects\n",
        "*   Numpy uses the contiguous memory -pointer\n",
        "\n",
        "##### Differences betweeen List and Numpy\n",
        "**List** <br>\n",
        "a = [1,3,5] <br> b = [1,2,3]\n",
        "\n",
        "a * b = error <br>\n",
        "**NumPy** <br>\n",
        "\n",
        "a = np.array([1,3,5]) <br>\n",
        "b = np.array([1,2,3])\n",
        "\n",
        "#### APPLICATION\n",
        "\n",
        "\n",
        "*   Mathematics (MATLAB Replacement)\n",
        "*   Plotting (Matplotlib)\n",
        "*   Backend (Pandas , Correct4 Digital Photography)\n",
        "*   Machine Learning\n",
        "\n"
      ],
      "metadata": {
        "id": "QVCXMC2qr7Cb"
      }
    },
    {
      "cell_type": "code",
      "source": [
        "import numpy as np\n"
      ],
      "metadata": {
        "id": "UW4qzV1at6Lh"
      },
      "execution_count": 1,
      "outputs": []
    },
    {
      "cell_type": "code",
      "source": [
        "# Initilalization\n",
        "\n",
        "a = np.array([1,2,3])\n",
        "print(a)"
      ],
      "metadata": {
        "colab": {
          "base_uri": "https://localhost:8080/"
        },
        "id": "AvOjaJSTwXPl",
        "outputId": "21d9637d-cf54-4528-eaa1-c59b1d65952e"
      },
      "execution_count": 2,
      "outputs": [
        {
          "output_type": "stream",
          "name": "stdout",
          "text": [
            "[1 2 3]\n"
          ]
        }
      ]
    },
    {
      "source": [
        "b = np.array([[9.0, 8.0, 7.0], [6.0, 7.0, 5.0]])\n",
        "print(b)"
      ],
      "cell_type": "code",
      "metadata": {
        "colab": {
          "base_uri": "https://localhost:8080/"
        },
        "id": "8zisXSoCxtnd",
        "outputId": "24498439-a461-4abc-f975-0e23627f2ec8"
      },
      "execution_count": 3,
      "outputs": [
        {
          "output_type": "stream",
          "name": "stdout",
          "text": [
            "[[9. 8. 7.]\n",
            " [6. 7. 5.]]\n"
          ]
        }
      ]
    },
    {
      "cell_type": "code",
      "source": [
        "#get the dimension\n",
        "\n",
        "b.ndim"
      ],
      "metadata": {
        "colab": {
          "base_uri": "https://localhost:8080/"
        },
        "id": "Zi5rVRBWxRoB",
        "outputId": "5edc5d63-aa4b-4ea9-cc43-e95992baa433"
      },
      "execution_count": 4,
      "outputs": [
        {
          "output_type": "execute_result",
          "data": {
            "text/plain": [
              "2"
            ]
          },
          "metadata": {},
          "execution_count": 4
        }
      ]
    },
    {
      "cell_type": "code",
      "source": [
        "b.shape"
      ],
      "metadata": {
        "colab": {
          "base_uri": "https://localhost:8080/"
        },
        "id": "1ANiayuhyG4I",
        "outputId": "b9f61486-2f3b-4c12-e9cf-f9b637156c5c"
      },
      "execution_count": 5,
      "outputs": [
        {
          "output_type": "execute_result",
          "data": {
            "text/plain": [
              "(2, 3)"
            ]
          },
          "metadata": {},
          "execution_count": 5
        }
      ]
    },
    {
      "cell_type": "code",
      "source": [
        "a.dtype"
      ],
      "metadata": {
        "colab": {
          "base_uri": "https://localhost:8080/"
        },
        "id": "YUBh_exVyI9v",
        "outputId": "c4da4fe2-a297-4830-f567-25783e92f8ef"
      },
      "execution_count": 6,
      "outputs": [
        {
          "output_type": "execute_result",
          "data": {
            "text/plain": [
              "dtype('int64')"
            ]
          },
          "metadata": {},
          "execution_count": 6
        }
      ]
    },
    {
      "cell_type": "code",
      "source": [
        "#get the total size"
      ],
      "metadata": {
        "id": "Vs0cPWXFyLE4"
      },
      "execution_count": 7,
      "outputs": []
    },
    {
      "cell_type": "code",
      "source": [
        "a.nbytes"
      ],
      "metadata": {
        "id": "0cIiGq60ydTW",
        "colab": {
          "base_uri": "https://localhost:8080/"
        },
        "outputId": "4d11ef49-50c5-4c2b-8bb1-6afd2e183f9c"
      },
      "execution_count": 8,
      "outputs": [
        {
          "output_type": "execute_result",
          "data": {
            "text/plain": [
              "24"
            ]
          },
          "metadata": {},
          "execution_count": 8
        }
      ]
    },
    {
      "cell_type": "code",
      "source": [
        "a = np.array([[1,2,3,4,5,6,7],[8,9,10,11,12,13,14]])\n",
        "print(a)"
      ],
      "metadata": {
        "id": "MHDeyGXCyhB9",
        "colab": {
          "base_uri": "https://localhost:8080/"
        },
        "outputId": "62691a83-f729-40cf-b25c-b25891be0255"
      },
      "execution_count": 9,
      "outputs": [
        {
          "output_type": "stream",
          "name": "stdout",
          "text": [
            "[[ 1  2  3  4  5  6  7]\n",
            " [ 8  9 10 11 12 13 14]]\n"
          ]
        }
      ]
    },
    {
      "cell_type": "code",
      "source": [
        "#get specifi element  [r,c]\n",
        "a[1,5]"
      ],
      "metadata": {
        "colab": {
          "base_uri": "https://localhost:8080/"
        },
        "id": "xxwWXjhPNkb1",
        "outputId": "a818d0a9-cfb5-4824-fb6f-d2428303a808"
      },
      "execution_count": 10,
      "outputs": [
        {
          "output_type": "execute_result",
          "data": {
            "text/plain": [
              "13"
            ]
          },
          "metadata": {},
          "execution_count": 10
        }
      ]
    },
    {
      "cell_type": "code",
      "source": [
        "a[0, :]"
      ],
      "metadata": {
        "colab": {
          "base_uri": "https://localhost:8080/"
        },
        "id": "tcZb4qtLOTYP",
        "outputId": "231347a3-b4eb-48c7-d9cb-1ce4d820c14f"
      },
      "execution_count": 11,
      "outputs": [
        {
          "output_type": "execute_result",
          "data": {
            "text/plain": [
              "array([1, 2, 3, 4, 5, 6, 7])"
            ]
          },
          "metadata": {},
          "execution_count": 11
        }
      ]
    },
    {
      "cell_type": "code",
      "source": [
        "a[:,2]"
      ],
      "metadata": {
        "colab": {
          "base_uri": "https://localhost:8080/"
        },
        "id": "Whr8bty-OZzV",
        "outputId": "90a240b3-b37f-46d9-d2a9-adb5d7971a49"
      },
      "execution_count": 12,
      "outputs": [
        {
          "output_type": "execute_result",
          "data": {
            "text/plain": [
              "array([ 3, 10])"
            ]
          },
          "metadata": {},
          "execution_count": 12
        }
      ]
    },
    {
      "cell_type": "code",
      "source": [
        "#fancy [startindex,: endindex: stepsize]\n",
        "\n",
        "a[0, 1: -1: 2]"
      ],
      "metadata": {
        "colab": {
          "base_uri": "https://localhost:8080/"
        },
        "id": "28Rj-EfmOg7w",
        "outputId": "6e3a44e4-06ba-4f0f-a8b1-fc8cc7e966d4"
      },
      "execution_count": 13,
      "outputs": [
        {
          "output_type": "execute_result",
          "data": {
            "text/plain": [
              "array([2, 4, 6])"
            ]
          },
          "metadata": {},
          "execution_count": 13
        }
      ]
    },
    {
      "cell_type": "code",
      "source": [
        "# insert\n",
        "a[1,5] = 20\n",
        "\n",
        "\n",
        "a[:,2] = 5\n",
        "\n",
        "print(a)"
      ],
      "metadata": {
        "colab": {
          "base_uri": "https://localhost:8080/"
        },
        "id": "XVFPLBCVPA4h",
        "outputId": "d4a71c5d-b25d-45d7-8bef-c8c0a8e40d26"
      },
      "execution_count": 17,
      "outputs": [
        {
          "output_type": "stream",
          "name": "stdout",
          "text": [
            "[[ 1  2  5  4  5  6  7]\n",
            " [ 8  9  5 11 12 20 14]]\n",
            "[[ 1  2  5  4  5  6  7]\n",
            " [ 8  9  5 11 12 20 14]]\n"
          ]
        }
      ]
    },
    {
      "cell_type": "markdown",
      "source": [
        "# **3D Example of Arrays**"
      ],
      "metadata": {
        "id": "vfitEBKcP1C1"
      }
    },
    {
      "cell_type": "code",
      "source": [
        "b = np.array([[[1,2],[3,4]],[[5,6],[7,8]]])\n",
        "print(b)"
      ],
      "metadata": {
        "colab": {
          "base_uri": "https://localhost:8080/"
        },
        "id": "DGoTA6-BP-VE",
        "outputId": "ffc668e5-40b8-4d75-98b4-e7888149abf3"
      },
      "execution_count": 19,
      "outputs": [
        {
          "output_type": "stream",
          "name": "stdout",
          "text": [
            "[[[1 2]\n",
            "  [3 4]]\n",
            "\n",
            " [[5 6]\n",
            "  [7 8]]]\n"
          ]
        }
      ]
    },
    {
      "cell_type": "code",
      "source": [
        "# get specific element (works outside in )\n",
        "b[0,1,1]"
      ],
      "metadata": {
        "colab": {
          "base_uri": "https://localhost:8080/"
        },
        "id": "RuqZQTbVQRUq",
        "outputId": "05504cc7-ee4a-47f7-a483-a25d229a30ed"
      },
      "execution_count": 22,
      "outputs": [
        {
          "output_type": "execute_result",
          "data": {
            "text/plain": [
              "4"
            ]
          },
          "metadata": {},
          "execution_count": 22
        }
      ]
    },
    {
      "cell_type": "code",
      "source": [
        "#Replace\n",
        "b[: ,1,:] = [[9,9],[8,8]]\n",
        "b"
      ],
      "metadata": {
        "colab": {
          "base_uri": "https://localhost:8080/"
        },
        "id": "16nt97L_RG2U",
        "outputId": "58ee9de8-5e83-456b-d292-52d87da47211"
      },
      "execution_count": 25,
      "outputs": [
        {
          "output_type": "execute_result",
          "data": {
            "text/plain": [
              "array([[[1, 2],\n",
              "        [9, 9]],\n",
              "\n",
              "       [[5, 6],\n",
              "        [8, 8]]])"
            ]
          },
          "metadata": {},
          "execution_count": 25
        }
      ]
    },
    {
      "cell_type": "markdown",
      "source": [
        "### TYPES OF ARRAYS\n",
        "\n"
      ],
      "metadata": {
        "id": "ggV0hGzgStVv"
      }
    },
    {
      "cell_type": "code",
      "source": [
        "#All 0s matrix\n",
        "\n",
        "np.zeros((2,3))"
      ],
      "metadata": {
        "colab": {
          "base_uri": "https://localhost:8080/"
        },
        "id": "or4MH6hRS5tt",
        "outputId": "321223f6-88d3-49f6-e74b-73070d50b88f"
      },
      "execution_count": 28,
      "outputs": [
        {
          "output_type": "execute_result",
          "data": {
            "text/plain": [
              "array([[0., 0., 0.],\n",
              "       [0., 0., 0.]])"
            ]
          },
          "metadata": {},
          "execution_count": 28
        }
      ]
    },
    {
      "cell_type": "code",
      "source": [
        "#All 1s matrix\n",
        "\n",
        "np.ones((4,2,2), dtype='int32')"
      ],
      "metadata": {
        "colab": {
          "base_uri": "https://localhost:8080/"
        },
        "id": "CDBwZrAKS-4V",
        "outputId": "a4e6a039-942d-45cc-bc11-1f4ac7348346"
      },
      "execution_count": 29,
      "outputs": [
        {
          "output_type": "execute_result",
          "data": {
            "text/plain": [
              "array([[[1, 1],\n",
              "        [1, 1]],\n",
              "\n",
              "       [[1, 1],\n",
              "        [1, 1]],\n",
              "\n",
              "       [[1, 1],\n",
              "        [1, 1]],\n",
              "\n",
              "       [[1, 1],\n",
              "        [1, 1]]], dtype=int32)"
            ]
          },
          "metadata": {},
          "execution_count": 29
        }
      ]
    },
    {
      "cell_type": "code",
      "source": [
        "#Any number elements\n",
        "\n",
        "np.full((2,2), 33)"
      ],
      "metadata": {
        "colab": {
          "base_uri": "https://localhost:8080/"
        },
        "id": "rsaR3O_yTpt4",
        "outputId": "6e8c28bb-afe3-4fcb-9029-0e31339bda5c"
      },
      "execution_count": 31,
      "outputs": [
        {
          "output_type": "execute_result",
          "data": {
            "text/plain": [
              "array([[33, 33],\n",
              "       [33, 33]])"
            ]
          },
          "metadata": {},
          "execution_count": 31
        }
      ]
    },
    {
      "cell_type": "code",
      "source": [
        "#Random decimal number\n",
        "\n",
        "np.random.rand(4,2)\n",
        "\n"
      ],
      "metadata": {
        "colab": {
          "base_uri": "https://localhost:8080/"
        },
        "id": "Zozfd30jT16I",
        "outputId": "08644402-1fa5-470b-f571-80cc59bb07db"
      },
      "execution_count": 34,
      "outputs": [
        {
          "output_type": "execute_result",
          "data": {
            "text/plain": [
              "array([[0.05885654, 0.77396498],\n",
              "       [0.87279676, 0.68861573],\n",
              "       [0.59547446, 0.09718464],\n",
              "       [0.53051321, 0.29206494]])"
            ]
          },
          "metadata": {},
          "execution_count": 34
        }
      ]
    },
    {
      "cell_type": "markdown",
      "source": [],
      "metadata": {
        "id": "c6qTYwAqVKMO"
      }
    },
    {
      "cell_type": "code",
      "source": [
        "#Random intergers\n",
        "np.random.randint(7, size=(3,3))"
      ],
      "metadata": {
        "colab": {
          "base_uri": "https://localhost:8080/"
        },
        "id": "5YM8pcb8UgG9",
        "outputId": "2fd8de24-42ad-468d-c2b3-3670e70ac5b2"
      },
      "execution_count": 35,
      "outputs": [
        {
          "output_type": "execute_result",
          "data": {
            "text/plain": [
              "array([[6, 2, 1],\n",
              "       [2, 2, 0],\n",
              "       [2, 2, 4]])"
            ]
          },
          "metadata": {},
          "execution_count": 35
        }
      ]
    },
    {
      "cell_type": "code",
      "source": [
        "#Identity Matrix\n",
        "\n",
        "np.identity(5)"
      ],
      "metadata": {
        "colab": {
          "base_uri": "https://localhost:8080/"
        },
        "id": "hmsBUu0zVVWf",
        "outputId": "beb4b09f-a6d8-4cfb-be90-e9a248236f32"
      },
      "execution_count": 36,
      "outputs": [
        {
          "output_type": "execute_result",
          "data": {
            "text/plain": [
              "array([[1., 0., 0., 0., 0.],\n",
              "       [0., 1., 0., 0., 0.],\n",
              "       [0., 0., 1., 0., 0.],\n",
              "       [0., 0., 0., 1., 0.],\n",
              "       [0., 0., 0., 0., 1.]])"
            ]
          },
          "metadata": {},
          "execution_count": 36
        }
      ]
    },
    {
      "cell_type": "code",
      "source": [
        "#Repeating array\n",
        "\n",
        "arr = np.array([1,2,3])\n",
        "\n",
        "r1 = np.repeat(arr, 3, axis=0)\n",
        "\n",
        "print(r1)"
      ],
      "metadata": {
        "colab": {
          "base_uri": "https://localhost:8080/"
        },
        "id": "I8DIdYqxVeyg",
        "outputId": "c69e34e6-1881-4a81-86a6-dcb79eea5802"
      },
      "execution_count": 39,
      "outputs": [
        {
          "output_type": "stream",
          "name": "stdout",
          "text": [
            "[1 1 1 2 2 2 3 3 3]\n"
          ]
        }
      ]
    },
    {
      "cell_type": "code",
      "source": [
        "output = np.ones((5,5))\n",
        "print(output)\n",
        "\n",
        "z = np.zeros((3,3))\n",
        "print(z)\n",
        "\n",
        "z[1,1] = 9\n",
        "print(z)\n",
        "\n",
        "output[1:-1,1:-1] = z\n",
        "\n",
        "print(output)"
      ],
      "metadata": {
        "colab": {
          "base_uri": "https://localhost:8080/"
        },
        "id": "LO3MTY5HWGlH",
        "outputId": "9a934c57-f643-4ca7-e493-a1c729545a6d"
      },
      "execution_count": 46,
      "outputs": [
        {
          "output_type": "stream",
          "name": "stdout",
          "text": [
            "[[1. 1. 1. 1. 1.]\n",
            " [1. 1. 1. 1. 1.]\n",
            " [1. 1. 1. 1. 1.]\n",
            " [1. 1. 1. 1. 1.]\n",
            " [1. 1. 1. 1. 1.]]\n",
            "[[0. 0. 0.]\n",
            " [0. 0. 0.]\n",
            " [0. 0. 0.]]\n",
            "[[0. 0. 0.]\n",
            " [0. 9. 0.]\n",
            " [0. 0. 0.]]\n",
            "[[1. 1. 1. 1. 1.]\n",
            " [1. 0. 0. 0. 1.]\n",
            " [1. 0. 9. 0. 1.]\n",
            " [1. 0. 0. 0. 1.]\n",
            " [1. 1. 1. 1. 1.]]\n"
          ]
        }
      ]
    },
    {
      "cell_type": "markdown",
      "source": [
        "**Be Care when copying arrays**"
      ],
      "metadata": {
        "id": "YuO88zWLX3pq"
      }
    },
    {
      "cell_type": "markdown",
      "source": [
        "### MATHEMATICAL PART"
      ],
      "metadata": {
        "id": "18ngy6DcYMee"
      }
    },
    {
      "cell_type": "markdown",
      "source": [],
      "metadata": {
        "id": "CD9bgFhsXuUq"
      }
    },
    {
      "cell_type": "code",
      "source": [
        "a = np.array([1,2,3,4])\n",
        "print(a)"
      ],
      "metadata": {
        "colab": {
          "base_uri": "https://localhost:8080/"
        },
        "id": "_bsHElO3YV4H",
        "outputId": "56379169-ae05-4760-d37e-b8842bccf279"
      },
      "execution_count": 47,
      "outputs": [
        {
          "output_type": "stream",
          "name": "stdout",
          "text": [
            "[1 2 3 4]\n"
          ]
        }
      ]
    },
    {
      "cell_type": "code",
      "source": [
        "a + 2"
      ],
      "metadata": {
        "colab": {
          "base_uri": "https://localhost:8080/"
        },
        "id": "j0HTA-oHY_gU",
        "outputId": "f7aef55d-dde0-421e-8733-294394c2a16c"
      },
      "execution_count": 48,
      "outputs": [
        {
          "output_type": "execute_result",
          "data": {
            "text/plain": [
              "array([3, 4, 5, 6])"
            ]
          },
          "metadata": {},
          "execution_count": 48
        }
      ]
    },
    {
      "cell_type": "code",
      "source": [
        "a - 2"
      ],
      "metadata": {
        "colab": {
          "base_uri": "https://localhost:8080/"
        },
        "id": "xHmr4_jWY_d-",
        "outputId": "6965f9fb-c30f-4f08-b3cd-813c98f69dbd"
      },
      "execution_count": 49,
      "outputs": [
        {
          "output_type": "execute_result",
          "data": {
            "text/plain": [
              "array([-1,  0,  1,  2])"
            ]
          },
          "metadata": {},
          "execution_count": 49
        }
      ]
    },
    {
      "cell_type": "code",
      "source": [
        "a * 2"
      ],
      "metadata": {
        "colab": {
          "base_uri": "https://localhost:8080/"
        },
        "id": "s3aX67fMZT4o",
        "outputId": "9c5dc92f-d464-4884-d0bd-98e57871a0d9"
      },
      "execution_count": 50,
      "outputs": [
        {
          "output_type": "execute_result",
          "data": {
            "text/plain": [
              "array([2, 4, 6, 8])"
            ]
          },
          "metadata": {},
          "execution_count": 50
        }
      ]
    },
    {
      "cell_type": "code",
      "source": [
        "a / 2"
      ],
      "metadata": {
        "colab": {
          "base_uri": "https://localhost:8080/"
        },
        "id": "lZbXfwFVZXfQ",
        "outputId": "8b0c0863-5a7c-4261-ce6e-3226b5030799"
      },
      "execution_count": 51,
      "outputs": [
        {
          "output_type": "execute_result",
          "data": {
            "text/plain": [
              "array([0.5, 1. , 1.5, 2. ])"
            ]
          },
          "metadata": {},
          "execution_count": 51
        }
      ]
    },
    {
      "cell_type": "code",
      "source": [
        "b =np.array([1,0,1,0])\n",
        "print(b)"
      ],
      "metadata": {
        "colab": {
          "base_uri": "https://localhost:8080/"
        },
        "id": "3OaUK5ZAZaoV",
        "outputId": "ae4fe947-2099-46ee-9d0e-3ae09cdc3600"
      },
      "execution_count": 53,
      "outputs": [
        {
          "output_type": "stream",
          "name": "stdout",
          "text": [
            "[1 0 1 0]\n"
          ]
        }
      ]
    },
    {
      "cell_type": "code",
      "source": [
        "a + b"
      ],
      "metadata": {
        "colab": {
          "base_uri": "https://localhost:8080/"
        },
        "id": "t1MMECRDZicc",
        "outputId": "f71cf759-54cd-4b0c-f9c3-027efa35fa23"
      },
      "execution_count": 54,
      "outputs": [
        {
          "output_type": "execute_result",
          "data": {
            "text/plain": [
              "array([2, 2, 4, 4])"
            ]
          },
          "metadata": {},
          "execution_count": 54
        }
      ]
    },
    {
      "cell_type": "code",
      "source": [
        "a ** 2"
      ],
      "metadata": {
        "colab": {
          "base_uri": "https://localhost:8080/"
        },
        "id": "IQ7qdSItZoiF",
        "outputId": "e768def2-339e-404a-97af-04e3ab5c253e"
      },
      "execution_count": 55,
      "outputs": [
        {
          "output_type": "execute_result",
          "data": {
            "text/plain": [
              "array([ 1,  4,  9, 16])"
            ]
          },
          "metadata": {},
          "execution_count": 55
        }
      ]
    },
    {
      "cell_type": "code",
      "source": [
        "#Take on Sin\n",
        "\n",
        "np.cos(a)"
      ],
      "metadata": {
        "colab": {
          "base_uri": "https://localhost:8080/"
        },
        "id": "ABmZYbqjZsRU",
        "outputId": "32c4414c-701b-45f0-aa71-cc6f0723a3c5"
      },
      "execution_count": 56,
      "outputs": [
        {
          "output_type": "execute_result",
          "data": {
            "text/plain": [
              "array([ 0.54030231, -0.41614684, -0.9899925 , -0.65364362])"
            ]
          },
          "metadata": {},
          "execution_count": 56
        }
      ]
    },
    {
      "cell_type": "markdown",
      "source": [
        "### LINEAR ALGEBRA"
      ],
      "metadata": {
        "id": "X4qkvDr2Z70U"
      }
    },
    {
      "cell_type": "code",
      "source": [
        "a = np.ones((2,3))\n",
        "print(a)\n",
        "\n",
        "b = np.full((3,2), 2)\n",
        "print(b)\n",
        "\n",
        "np.matmul(a,b)"
      ],
      "metadata": {
        "colab": {
          "base_uri": "https://localhost:8080/"
        },
        "id": "qxb56kxRaBA7",
        "outputId": "cb1a5e36-fbad-4a93-c8f6-ed7c86029d32"
      },
      "execution_count": 60,
      "outputs": [
        {
          "output_type": "stream",
          "name": "stdout",
          "text": [
            "[[1. 1. 1.]\n",
            " [1. 1. 1.]]\n",
            "[[2 2]\n",
            " [2 2]\n",
            " [2 2]]\n"
          ]
        },
        {
          "output_type": "execute_result",
          "data": {
            "text/plain": [
              "array([[6., 6.],\n",
              "       [6., 6.]])"
            ]
          },
          "metadata": {},
          "execution_count": 60
        }
      ]
    },
    {
      "cell_type": "code",
      "source": [
        "c = np.identity(3)\n",
        "np.linalg.det(c)"
      ],
      "metadata": {
        "colab": {
          "base_uri": "https://localhost:8080/"
        },
        "id": "kjFdFlEcaEWG",
        "outputId": "f42823d3-67d9-4bd2-8499-a8913f7a5fbe"
      },
      "execution_count": 62,
      "outputs": [
        {
          "output_type": "execute_result",
          "data": {
            "text/plain": [
              "1.0"
            ]
          },
          "metadata": {},
          "execution_count": 62
        }
      ]
    },
    {
      "cell_type": "markdown",
      "source": [
        "### STATISTICS"
      ],
      "metadata": {
        "id": "vNbmqK2Ibgcj"
      }
    },
    {
      "cell_type": "code",
      "source": [
        "stats = np.array([[1,2,3], [4,5,6]])\n",
        "stats"
      ],
      "metadata": {
        "colab": {
          "base_uri": "https://localhost:8080/"
        },
        "id": "8PKmYqppayVk",
        "outputId": "bac4929b-9812-4eac-f0d2-7f395cf073f0"
      },
      "execution_count": 63,
      "outputs": [
        {
          "output_type": "execute_result",
          "data": {
            "text/plain": [
              "array([[1, 2, 3],\n",
              "       [4, 5, 6]])"
            ]
          },
          "metadata": {},
          "execution_count": 63
        }
      ]
    },
    {
      "cell_type": "code",
      "source": [
        "np.min(stats)"
      ],
      "metadata": {
        "colab": {
          "base_uri": "https://localhost:8080/"
        },
        "id": "Rr-qroL3bylA",
        "outputId": "f0830e96-26cc-42d0-ee4d-af0a3500a862"
      },
      "execution_count": 67,
      "outputs": [
        {
          "output_type": "execute_result",
          "data": {
            "text/plain": [
              "1"
            ]
          },
          "metadata": {},
          "execution_count": 67
        }
      ]
    },
    {
      "cell_type": "code",
      "source": [
        "np.max(stats, axis=1)"
      ],
      "metadata": {
        "colab": {
          "base_uri": "https://localhost:8080/"
        },
        "id": "aLzuufZmb4FT",
        "outputId": "c2605c2e-846b-40eb-be2b-6f5f75b0abc9"
      },
      "execution_count": 68,
      "outputs": [
        {
          "output_type": "execute_result",
          "data": {
            "text/plain": [
              "array([3, 6])"
            ]
          },
          "metadata": {},
          "execution_count": 68
        }
      ]
    },
    {
      "cell_type": "code",
      "source": [
        "np.sum(stats, axis=0)"
      ],
      "metadata": {
        "colab": {
          "base_uri": "https://localhost:8080/"
        },
        "id": "HZ9yD0CCb757",
        "outputId": "fb90f88d-eacd-49ee-9dc0-66aab193977d"
      },
      "execution_count": 69,
      "outputs": [
        {
          "output_type": "execute_result",
          "data": {
            "text/plain": [
              "array([5, 7, 9])"
            ]
          },
          "metadata": {},
          "execution_count": 69
        }
      ]
    },
    {
      "cell_type": "code",
      "source": [],
      "metadata": {
        "id": "buv6zBEAd9EW"
      },
      "execution_count": null,
      "outputs": []
    },
    {
      "cell_type": "markdown",
      "source": [
        "### REORGANIZIGN ARRAYS\n"
      ],
      "metadata": {
        "id": "DY34vqateBQk"
      }
    },
    {
      "cell_type": "code",
      "source": [
        "before = np.array([[1,2,3,4],[5,6,7,8]])\n",
        "print(before)\n",
        "\n",
        "after = before.reshape(4,2)\n",
        "print(after)"
      ],
      "metadata": {
        "colab": {
          "base_uri": "https://localhost:8080/"
        },
        "id": "ORDiDG-keQb-",
        "outputId": "0a610fdd-2664-4bcb-8939-71fabd99b2d8"
      },
      "execution_count": 75,
      "outputs": [
        {
          "output_type": "stream",
          "name": "stdout",
          "text": [
            "[[1 2 3 4]\n",
            " [5 6 7 8]]\n",
            "[[1 2]\n",
            " [3 4]\n",
            " [5 6]\n",
            " [7 8]]\n"
          ]
        }
      ]
    },
    {
      "cell_type": "code",
      "source": [
        "# vertically stacking vectors\n",
        "\n",
        "v1 = np.array([1,2,3,4])\n",
        "v2 = np.array([5,6,7,8])\n",
        "\n",
        "np.vstack([v1,v2,v1,v2])\n"
      ],
      "metadata": {
        "colab": {
          "base_uri": "https://localhost:8080/"
        },
        "id": "9xzsqJYseiS6",
        "outputId": "f92ddb52-7e9d-4b50-cbce-ee85af1fa82d"
      },
      "execution_count": 76,
      "outputs": [
        {
          "output_type": "execute_result",
          "data": {
            "text/plain": [
              "array([[1, 2, 3, 4],\n",
              "       [5, 6, 7, 8],\n",
              "       [1, 2, 3, 4],\n",
              "       [5, 6, 7, 8]])"
            ]
          },
          "metadata": {},
          "execution_count": 76
        }
      ]
    },
    {
      "cell_type": "code",
      "source": [],
      "metadata": {
        "id": "h-9QhB2lfjAp"
      },
      "execution_count": null,
      "outputs": []
    },
    {
      "cell_type": "markdown",
      "source": [
        "### LOAD DATA"
      ],
      "metadata": {
        "id": "ooNmx8smfxhI"
      }
    },
    {
      "cell_type": "code",
      "source": [
        "filedata = np.genfromtxt('data.txt', delimiter=',')   #data.txt is the file name\n",
        "\n"
      ],
      "metadata": {
        "id": "QK5l9yb6f26r"
      },
      "execution_count": null,
      "outputs": []
    },
    {
      "cell_type": "markdown",
      "source": [
        "#### BOOLEAN MASKING"
      ],
      "metadata": {
        "id": "6lcUYaINg7fs"
      }
    },
    {
      "cell_type": "code",
      "source": [
        "v2 > 50"
      ],
      "metadata": {
        "colab": {
          "base_uri": "https://localhost:8080/"
        },
        "id": "fyirLFfEg6QZ",
        "outputId": "f4014774-e1b8-4998-8305-4c14ab69795a"
      },
      "execution_count": 77,
      "outputs": [
        {
          "output_type": "execute_result",
          "data": {
            "text/plain": [
              "array([False, False, False, False])"
            ]
          },
          "metadata": {},
          "execution_count": 77
        }
      ]
    }
  ]
}