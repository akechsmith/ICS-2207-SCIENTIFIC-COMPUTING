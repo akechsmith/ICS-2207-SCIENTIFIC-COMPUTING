{
  "nbformat": 4,
  "nbformat_minor": 0,
  "metadata": {
    "colab": {
      "provenance": [],
      "authorship_tag": "ABX9TyNZzOlNyZXNy909RTPqyKnV",
      "include_colab_link": true
    },
    "kernelspec": {
      "name": "python3",
      "display_name": "Python 3"
    },
    "language_info": {
      "name": "python"
    }
  },
  "cells": [
    {
      "cell_type": "markdown",
      "metadata": {
        "id": "view-in-github",
        "colab_type": "text"
      },
      "source": [
        "<a href=\"https://colab.research.google.com/github/akechsmith/ICS-2207-SCIENTIFIC-COMPUTING/blob/main/hw_2.ipynb\" target=\"_parent\"><img src=\"https://colab.research.google.com/assets/colab-badge.svg\" alt=\"Open In Colab\"/></a>"
      ]
    },
    {
      "cell_type": "markdown",
      "source": [],
      "metadata": {
        "id": "LdjImcsiLEIX"
      }
    },
    {
      "cell_type": "code",
      "execution_count": null,
      "metadata": {
        "id": "Pm_VRpAOfqXl",
        "colab": {
          "base_uri": "https://localhost:8080/"
        },
        "outputId": "cb93b320-926c-499b-d7e3-9a609b46c487"
      },
      "outputs": [
        {
          "output_type": "stream",
          "name": "stdout",
          "text": [
            "Enter radius of sphere: 7\n",
            "The volume of the sphere is : 1437.01\n"
          ]
        }
      ],
      "source": [
        "# the volume of sphere\n",
        "\n",
        "PI = 3.142159\n",
        "r = float(input('Enter radius of sphere: '))\n",
        "\n",
        "volume = (4/3) * r**3 * PI\n",
        "\n",
        "print(f\"The volume of the sphere is : {volume:.2f}\")\n",
        "\n",
        "\n"
      ]
    },
    {
      "cell_type": "markdown",
      "source": [],
      "metadata": {
        "id": "9ZJBAJiepqO4"
      }
    },
    {
      "cell_type": "markdown",
      "source": [
        "**The Compound Interest**\n",
        "\n",
        "principle = 100000\n",
        "\n",
        "Interest = 12%\n",
        "\n",
        "Time in Years = 5\n",
        "\n",
        "\n",
        "\n",
        "---\n",
        "Amount = $ p(1 + \\frac{1}{n})^{nt}$\n"
      ],
      "metadata": {
        "id": "nLbxj4LYpqnM"
      }
    },
    {
      "cell_type": "markdown",
      "source": [
        "Solve the following system using **Gauss-Jordan** elimination\n",
        "\n",
        "$x_{1}$ + $2x_{2}$ - $x_{3}$ = -2\n",
        "\n",
        "$2x_{1}$ + $7x_{2}$ + $8x_{3}$ = -16\n",
        "\n",
        "-$2x_{2}$ + $2x_{3}$ = 2\n",
        "\n",
        "\n",
        "\n",
        "---\n",
        "\n",
        "**Solution**\n",
        "\n",
        "$x_{1}$ = -3\n",
        "\n",
        "$x_{2}$ = 2\n",
        "\n",
        "$x_{3}$ = 3\n"
      ],
      "metadata": {
        "id": "Vpb27mz1KHWJ"
      }
    }
  ]
}