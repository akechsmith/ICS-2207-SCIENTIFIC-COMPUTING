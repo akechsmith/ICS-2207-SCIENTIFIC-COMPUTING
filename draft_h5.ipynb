{
  "nbformat": 4,
  "nbformat_minor": 0,
  "metadata": {
    "colab": {
      "provenance": [],
      "authorship_tag": "ABX9TyNC6Xj3AICaMZMHIqMi5cpa",
      "include_colab_link": true
    },
    "kernelspec": {
      "name": "python3",
      "display_name": "Python 3"
    },
    "language_info": {
      "name": "python"
    }
  },
  "cells": [
    {
      "cell_type": "markdown",
      "metadata": {
        "id": "view-in-github",
        "colab_type": "text"
      },
      "source": [
        "<a href=\"https://colab.research.google.com/github/akechsmith/ICS-2207-SCIENTIFIC-COMPUTING/blob/main/draft_h5.ipynb\" target=\"_parent\"><img src=\"https://colab.research.google.com/assets/colab-badge.svg\" alt=\"Open In Colab\"/></a>"
      ]
    },
    {
      "cell_type": "markdown",
      "source": [],
      "metadata": {
        "id": "MqgWJ0h4wBc0"
      }
    },
    {
      "cell_type": "markdown",
      "source": [
        "NAME: AKECH DAU ATEM\n",
        "\n",
        "REG NO: SCT211-0535/2022\n",
        "\n",
        "COURSE: BSC COMPUTER SCIENCE\n",
        "\n",
        "UNIT: ICS2207 SCIENTIFIC COMPUTING\n",
        "\n",
        "PROJECT TITLE: APPLICATION OF NEWTON-RAPHSON METHOD IN FINDING ROOTS OF EQUATIONS\n",
        "\n",
        "\n",
        "DEADLINE: MARCH 6, 2024\n",
        "\n",
        "\n",
        "\n",
        "---\n",
        "\n",
        "\n",
        "\n",
        "\n",
        "OBJECTIVE:\n",
        "\n",
        "Utilize the Newton-Raphson method to numerically solve for the roots of a given\n",
        "set of equations. The project will assess your ability to apply this iterative method effectively,\n",
        "analyze convergence criteria, and interpret the results in the context of scientific computing"
      ],
      "metadata": {
        "id": "DPzJRy69v_rK"
      }
    },
    {
      "cell_type": "markdown",
      "source": [
        "1. INTRODUCTION\n",
        "\n",
        "\n",
        "The Newton-Raphson method is named after Isaac Newton; the man who discovered the method in 1736, and Joseph Raphson, the man who described the method back in 1690. Both mathematicians utilized calculus in this method in order to find the roots of an equation\n",
        "\n",
        "The Newton-Raphson method, a fundamental technique in numerical analysis, plays a pivotal role in approximating roots of real-valued functions. This iterative approach provides an efficient means of finding solutions to equations where explicit solutions may be challenging or impractical to obtain.\n",
        "\n",
        "Central to its significance is the method's ability to converge rapidly towards the root of a function. By iteratively refining an initial guess, the Newton-Raphson method demonstrates remarkable efficiency in solving nonlinear equations. This method is particularly valuable in diverse fields such as physics, engineering, and finance, where numerical approximations are frequently employed to solve complex problems.\n",
        "\n",
        "In this project, we explore the application of the Newton-Raphson method to solve nonlinear equations, assessing its efficacy and significance in the broader context of scientific computation."
      ],
      "metadata": {
        "id": "R-WxcUAwvSJN"
      }
    },
    {
      "cell_type": "markdown",
      "source": [
        "2. THEORY\n",
        "\n",
        "## Formula ##\n",
        "The Newton-Raphson method is an iterative numerical technique used for finding successively better approximations to the roots (or zeros) of a real-valued function. Given a function $f(x)$ and its derivative $f'(x)$,The Newton-Raphson iteration formula is given by:  $ \\;x_{n+1}$ = $x_{n}$ - $ \\frac{f(x_n)}{f'(x_n)} $\n",
        "\n",
        "\n",
        "\n",
        "\n",
        "Here:\n",
        "\n",
        "$ \\;x_{n+1}$ is the next approximation,\n",
        "$\\;x_{n}$ is the current approximation, $\\;f(x_n)$ is the function value at $\\;x_{n}$\n",
        "$\\;f'(x_n)$is the derivative of the function at $\\;x_{n}$\n",
        "## Convergence Criteria ##\n",
        "\n",
        "For the Newton-Raphson method to converge,$\\;x_{0}$ the initial guess\n",
        "should be close to the actual root, and the function\n",
        "$f(x)$ must be continuous and have a continuous derivative in the neighborhood of the root. The convergence criteria can be stated using the error term:\n",
        "\n",
        "|$ \\;x_{n+1}$ -  $x_{n}$|  $\\; \\le$ $\\;ϵ$\n",
        "\n",
        "where\n",
        "ϵ is a small positive number, indicating the desired level of accuracy. Another common criterion is to check that  |$f(\\;x_{n+1})$ |  $\\; \\le$ $\\;ϵ$  \n",
        "The convergence rate of the Newton-Raphson method is quadratic, which means that the number of correct digits roughly doubles with each iteration when it is converging.\n",
        "\n",
        "\n",
        "## Potential Limitations ##\n",
        "While the Newton-Raphson method is a powerful tool for finding roots, it is important to consider its limitations and ensure that the chosen initial guess and function properties align with the method's requirements for convergence:\n",
        "\n",
        "### Dependency on Initial Guess:\n",
        "The Newton-Raphson method is sensitive to the choice of the initial guess. If the initial guess is far from the actual root or is in a region where the function has a flat slope, the method may fail to converge.\n",
        "\n",
        "### Convergence to Local Minimum:\n",
        "The method is not guaranteed to converge to the global minimum; it might converge to a local minimum or a saddle point.\n",
        "\n",
        "### Discontinuity and Singularities:\n",
        "If the function has discontinuities or singularities in the vicinity of the root, the method may behave unpredictably.\n",
        "\n",
        "### Need for Derivative:\n",
        "The method requires the calculation of the derivative, which may not always be readily available or computationally expensive.\n",
        "\n",
        "### Divergence:\n",
        "The Newton-Raphson method can diverge, especially if the derivative is close to zero or if the iterations lead to a division by zero.\n",
        "\n",
        "### Not Suitable for Multiple Roots:\n",
        "If the function has multiple roots, the method may converge to any of them, and the choice of the initial guess becomes crucial."
      ],
      "metadata": {
        "id": "dttys7a-AjxN"
      }
    },
    {
      "cell_type": "markdown",
      "source": [
        "3. IMPLEMENTATION\n",
        "\n",
        "Newton-Raphson method in Python to solve a specific equation or set of equations.\n",
        "\n",
        "exapmle case: $\\:f(x)$ = $x^4 - x - 10$\n"
      ],
      "metadata": {
        "id": "gRmFU1l3v-FO"
      }
    },
    {
      "cell_type": "code",
      "source": [
        "# Python implementation of the Newton-Raphson method\n",
        "\n",
        "def newton_raphson_method(f, df, x0, tolerance=1e-6, max_iterations=100):\n",
        "    \"\"\"\n",
        "    Newton-Raphson method for finding the root of a function.\n",
        "\n",
        "    Parameters:\n",
        "    - f: The target function.\n",
        "    - df: The derivative of the target function.\n",
        "    - x0: Initial guess.\n",
        "    - tolerance: Convergence tolerance.\n",
        "    - max_iterations: Maximum number of iterations.\n",
        "\n",
        "    Returns:\n",
        "    - root: Approximated root.\n",
        "    - iterations: Number of iterations performed.\n",
        "    \"\"\"\n",
        "\n",
        "    x = x0\n",
        "    iterations = 0\n",
        "\n",
        "    while abs(f(x)) > tolerance and iterations < max_iterations:\n",
        "        x = x - f(x) / df(x)\n",
        "        iterations += 1\n",
        "\n",
        "    return x, iterations\n",
        "\n",
        "# Example usage\n",
        "# result = newton_raphson_method(...)\n"
      ],
      "metadata": {
        "id": "tEKR-Z6KwvdQ"
      },
      "execution_count": null,
      "outputs": []
    },
    {
      "cell_type": "markdown",
      "source": [
        "Explanation:\n",
        "\n",
        "* The newton_raphson_method function takes four parameters: the target function **f**, its derivative **df**, the initial guess **x0**, and **optional parameters** for convergence tolerance and maximum iterations.\n",
        "* It initializes the current approximation x to the initial guess and\n",
        "the iteration counter iterations to zero.\n",
        "* The method iteratively updates the approximation using the Newton-Raphson formula until either the absolute value of the function is below the tolerance or the maximum number of iterations is reached.\n",
        "\n",
        "This implementation sets the stage for solving a specific equation using the Newton-Raphson method. The next step would be to apply this function to the equation $\\:f(x)$ = $x^4 - x - 10$"
      ],
      "metadata": {
        "id": "1NeGGkrHyEKT"
      }
    },
    {
      "cell_type": "markdown",
      "source": [
        "4. RESULTS AND ANALYSIS\n",
        "\n",
        "*Example Equation:* $\\:f(x)$ = $x^4 - x - 10$"
      ],
      "metadata": {
        "id": "FP8YUDjAvQMY"
      }
    },
    {
      "cell_type": "code",
      "source": [
        "# Applying Newton-Raphson to the new example equation\n",
        "f = lambda x: x**4 - x - 10\n",
        "df = lambda x: 4*x**3 - 1\n",
        "\n",
        "initial_guess = 2\n",
        "result, num_iterations = newton_raphson_method(f, df, initial_guess)\n",
        "\n",
        "# Printing results\n",
        "print(f\"Root found: {result:.3f}\")  #root in 3 dp\n",
        "print(f\"Iterations: {num_iterations}\")\n"
      ],
      "metadata": {
        "colab": {
          "base_uri": "https://localhost:8080/"
        },
        "id": "0fzAc5F71Qsh",
        "outputId": "3681680a-ea05-4b81-c1f5-79df1d05d49c"
      },
      "execution_count": null,
      "outputs": [
        {
          "output_type": "stream",
          "name": "stdout",
          "text": [
            "Root found: 1.856\n",
            "Iterations: 3\n"
          ]
        }
      ]
    },
    {
      "cell_type": "markdown",
      "source": [
        "### Results\n",
        "The Newton-Raphson method is applied to the equation.\n",
        "the with an initial guess of\n",
        "$x_0\\;$= 2.  The result is a root found at approximately\n",
        "**1.856** with three decimal places, and the number of iterations required for convergence is **3**.\n",
        "\n",
        "The method was applied with various intial guesses also. the number of iterations required for convergence for intial guesses 1 and 3 were 8 and 5 respectively.\n",
        "\n",
        "\n",
        "### Efficiency and Convergence\n",
        "Analyzing the efficiency involves considering the number of iterations required for convergence. In this case:\n",
        "\n",
        "The method exhibits high efficiency when the initial guess is\n",
        "2, converging in only 3 iterations.\n",
        "For an initial guess of\n",
        "1, the method still converges but with\n",
        "8 iterations, suggesting a slightly slower convergence.\n",
        "Similarly, with an initial guess of\n",
        "3, the method converges in\n",
        "5 iterations.\n",
        "These results indicate that the efficiency of the method is influenced by the choice of the initial guess. A more informed initial guess results in faster convergence.\n",
        "### Accuracy\n",
        "To assess accuracy, we compare the obtained root (\n",
        "1.856) with any known solution. While the exact root of the equation may not be known, accuracy is evaluated based on the consistent convergence to the value\n",
        "1.856 with different initial guesses. This indicates the accuracy and reliability of the Newton-Raphson method for this equation.\n",
        "\n",
        "### Challenges Encountered During Implementation\n",
        "Challenges encountered during the implementation include sensitivity to the initial guess. The number of iterations is significantly affected by the choice of the initial guess, as observed in the variations between\n",
        "3, 8, and 5 iterations for different initial guesses.\n",
        "\n"
      ],
      "metadata": {
        "id": "Bxiv8hQ47_X2"
      }
    },
    {
      "cell_type": "markdown",
      "source": [
        "5. CONCLUSION\n",
        "\n",
        "In summary, the application of the Newton-Raphson method to the nonlinear equation has provided valuable insights into its behavior and performance. The efficiency and accuracy of the method were evident, particularly when utilizing well-informed initial guesses. The impact of the initial guess on convergence was highlighted, showcasing the method's sensitivity to this crucial parameter.\n",
        "\n",
        "The Newton-Raphson method, with its rapid convergence under favorable conditions, stands as a robust tool for root-finding in scientific computing. Its application, however, requires careful consideration of the initial guess, as demonstrated by variations in the number of iterations for different starting points. This sensitivity emphasizes the importance of understanding the characteristics of the target function.\n",
        "\n",
        "In broader scientific and computational contexts, the Newton-Raphson method proves its worth, offering an effective balance between efficiency and accuracy. Its limitations, such as sensitivity to poorly-behaved functions or inadequate initial guesses, should be acknowledged. Practitioners may consider alternative methods in scenarios where these limitations become significant.\n",
        "\n",
        "As a versatile numerical technique, the Newton-Raphson method remains a valuable asset in the toolkit of computational methods, especially when dealing with well-behaved functions and informed initial guesses. Its successful application underscores the significance of thoughtful parameter selection and an understanding of the mathematical properties of the functions being analyzed."
      ],
      "metadata": {
        "id": "_X1-OwT3yCtF"
      }
    },
    {
      "cell_type": "markdown",
      "source": [
        "6. REFERENCES\n",
        "\n",
        "      \n",
        "\n",
        "1.   Robertson, E. F., and J. J. O'Connor.\"Joseph Raphson\". MacTutor History of Mathematics Archive. Accessed January 13, 2016. http://www-groups.dcs.st-and.ac.uk/~history/Biographies/Raphson.html.\n",
        "\n",
        "2.    Shodor, (1996). Title of the second source. \"Newton-Raphson Method.\".  UNC-Chapel Hill Chemistry Fundamentals\n",
        "    Program."
      ],
      "metadata": {
        "id": "RYo3LsPu_P_f"
      }
    }
  ]
}